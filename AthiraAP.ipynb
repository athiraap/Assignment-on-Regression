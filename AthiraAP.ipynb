{
 "cells": [
  {
   "cell_type": "code",
   "execution_count": null,
   "id": "78f3a7b6-642d-48ef-bc35-a2629a3a35ec",
   "metadata": {},
   "outputs": [],
   "source": [
    "Case Study on Regression"
   ]
  },
  {
   "cell_type": "code",
   "execution_count": 4,
   "id": "0f762d1a-6f7f-4a55-b3d7-acd5ea4d9936",
   "metadata": {},
   "outputs": [
    {
     "name": "stdout",
     "output_type": "stream",
     "text": [
      "Linear Regression RMSE: 65779.22359552195\n",
      "Lasso Regression RMSE: 65778.8702473345\n",
      "Predicted price for a 2022 model: 743601.6159450412\n"
     ]
    },
    {
     "name": "stderr",
     "output_type": "stream",
     "text": [
      "/home/nandu/.local/lib/python3.8/site-packages/sklearn/base.py:465: UserWarning: X does not have valid feature names, but LinearRegression was fitted with feature names\n",
      "  warnings.warn(\n"
     ]
    }
   ],
   "source": [
    "import pandas as pd\n",
    "from sklearn.model_selection import train_test_split\n",
    "from sklearn.linear_model import LinearRegression, Lasso\n",
    "from sklearn.metrics import mean_squared_error\n",
    "import numpy as np\n",
    "\n",
    "df = pd.read_csv('/home/nandu/Downloads/car_age_price.csv')\n",
    "\n",
    "X = df[['Year']]\n",
    "y = df['Price']\n",
    "\n",
    "X_train, X_test, y_train, y_test = train_test_split(X, y, test_size=0.2, random_state=42)\n",
    "\n",
    "\n",
    "linear_model = LinearRegression()\n",
    "linear_model.fit(X_train, y_train)\n",
    "linear_predictions = linear_model.predict(X_test)\n",
    "\n",
    "lasso_model = Lasso(alpha=1.0) \n",
    "lasso_model.fit(X_train, y_train)\n",
    "lasso_predictions = lasso_model.predict(X_test)\n",
    "\n",
    "linear_rmse = np.sqrt(mean_squared_error(y_test, linear_predictions))\n",
    "lasso_rmse = np.sqrt(mean_squared_error(y_test, lasso_predictions))\n",
    "\n",
    "print(f'Linear Regression RMSE: {linear_rmse}')\n",
    "print(f'Lasso Regression RMSE: {lasso_rmse}')\n",
    "\n",
    "year_2022 = np.array([[2022]])\n",
    "predicted_price = linear_model.predict(year_2022)\n",
    "print(f'Predicted price for a 2022 model: {predicted_price[0]}')\n",
    "\n"
   ]
  },
  {
   "cell_type": "code",
   "execution_count": null,
   "id": "a3415052-e6ec-4b8f-87cc-b1e5dab16f40",
   "metadata": {},
   "outputs": [],
   "source": []
  }
 ],
 "metadata": {
  "kernelspec": {
   "display_name": "Python 3 (ipykernel)",
   "language": "python",
   "name": "python3"
  },
  "language_info": {
   "codemirror_mode": {
    "name": "ipython",
    "version": 3
   },
   "file_extension": ".py",
   "mimetype": "text/x-python",
   "name": "python",
   "nbconvert_exporter": "python",
   "pygments_lexer": "ipython3",
   "version": "3.8.10"
  }
 },
 "nbformat": 4,
 "nbformat_minor": 5
}
